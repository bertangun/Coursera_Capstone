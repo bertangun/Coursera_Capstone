{
 "cells": [
  {
   "cell_type": "markdown",
   "metadata": {},
   "source": [
    "# The Battle of Neighborhoods - Week 1"
   ]
  },
  {
   "cell_type": "markdown",
   "metadata": {},
   "source": [
    "# Coursera Capstone Report\n",
    "\n",
    "         1)Introduction Section : Discussion of the business problem and the interested audience in this project.\n",
    "         2)Data Section: Description of the data that will be used to solve the problem.\n",
    "         3)Methodology section : Discussion and description of exploratory data analysis carried out, any inferential statistical testing performed, and if any machine learnings were used establishing the strategy and purposes\n",
    "         4)Results section : Discussion of the results.\n",
    "         5)Discussion section : Elaboration and discussion on any observations noted and any recommendations suggested based on the results.\n",
    "         6)Conclusion section : Report Conclusion."
   ]
  },
  {
   "cell_type": "markdown",
   "metadata": {},
   "source": [
    "### Libraries"
   ]
  },
  {
   "cell_type": "code",
   "execution_count": 5,
   "metadata": {},
   "outputs": [
    {
     "name": "stdout",
     "output_type": "stream",
     "text": [
      "Requirement already satisfied: geopy in /anaconda3/lib/python3.7/site-packages (1.20.0)\n",
      "Requirement already satisfied: geographiclib<2,>=1.49 in /anaconda3/lib/python3.7/site-packages (from geopy) (1.49)\n",
      "Collecting package metadata: done\n",
      "Solving environment: done\n",
      "\n",
      "# All requested packages already installed.\n",
      "\n",
      "Libraries imported.\n"
     ]
    }
   ],
   "source": [
    "import numpy as np \n",
    "import pandas as pd \n",
    "pd.set_option('display.max_columns', None)\n",
    "pd.set_option('display.max_rows', None)\n",
    "import json \n",
    "!pip install geopy\n",
    "from geopy.geocoders import Nominatim \n",
    "import requests\n",
    "from pandas.io.json import json_normalize \n",
    "import time\n",
    "!conda install -c conda-forge folium=0.5.0 --yes\n",
    "import folium # plotting library\n",
    "\n",
    "print('Libraries imported.')"
   ]
  },
  {
   "cell_type": "markdown",
   "metadata": {},
   "source": [
    "###"
   ]
  },
  {
   "cell_type": "markdown",
   "metadata": {},
   "source": [
    "## 1) Introduction\n",
    "\n",
    "        When someone or a family is trying to find the best places to live, it's always a good idea to compare cities and if possible, to compare neighborhoods to see if it suites your taste. After all, when you go to buy a car or a house or any big ticket item, you usually try out a few models or visit a few homes before you decide. The same tactic applies to finding the best places to live. It is always advisable to do it before you start planning your move or to help narrow down your choices.When thinking about the best place to live, lots of things are considered when trying to make a comparison between cities, towns, or neighborhoods. Some of theses includes:\n",
    "\n",
    "        How can I find a convenient and enjoyable place similar to mine now in Los Angeles? Certainly, I can use available real estate apps and Google but the idea is to use and apply myself the learned tools during the course. In order to make a comparison and evaluation of the rental options in Manhattan NY, I must set some basis configurations. \n",
    "\n",
    "  ### Business problem\n",
    "\n",
    "        The challenge is to find a suitable apartment for rent in Manhattan NY that complies with the demands on location, price and venues. The data required to resolve this challenge is described in the data section.\n",
    "\n",
    "        \n",
    "       "
   ]
  },
  {
   "cell_type": "markdown",
   "metadata": {},
   "source": [
    "## 2) Data Section:\n",
    "\n",
    "    Description of the data and its sources that will be used to solve the problem\n",
    "    \n",
    "### Description of the Data:\n",
    "\n",
    "    The following data is required to answer the issues of the problem:\n",
    "    List of Boroughs and neighborhoods of Manhattan with their geodata (latitude and longitude)\n",
    "    List of Subway metro stations in Manhattan with their address location\n",
    "    List of apartments for rent in Manhattan area with their addresses and price\n",
    "    Preferably, a list of apartment for rent with additional information, such as price, address, area, number of beds, etc\n",
    "    Clustered venues for each Manhattan neighborhood \n",
    "    Venues for subway metro stations\n",
    "   \n",
    "### The data will be used as follows:\n",
    "\n",
    "    Use Foursquare and geopy data to map top 10 venues for all Manhattan neighborhoods and clustered in groups\n",
    "    \n",
    "    Use foursquare and geopy data to map the location of subway metro stations , separately and on top of the above clustered map in order to be able to identify the venues and ammenities near each metro station, or explore each subway location separately.\n",
    "    \n",
    "    Use Foursquare and geopy data to map the location of rental places, in some form, linked to the subway locations ,create a map that depicts, for instance, the average rental price per square ft, around a radious of 1.0 miles(1.6 km) around each subway station - or a similar metrics. I will be able to quickly point to the popups to know the relative price per subway area.\n",
    "    \n",
    "    Addresses from rental locations will be converted to geodata( lat, long) using Geopy-distance and Nominatim.\n",
    "    \n",
    "    Data will be searched in open data sources if available, from real estate sites if open to reading, libraries or other government agencies such as Metro New York MTA, etc.\n",
    "    \n",
    "    The procesing of data will allow to answer the key questions to make a decision:\n",
    "    \n",
    "        what is the cost of rent (per square ft) around a mile radius from each subway metro station?\n",
    "        what is the area of Manhattan with best rental pricing that meets criteria established?\n",
    "        What is the distance from work place ( Park Ave and 53 rd St) and the tentative future home?\n",
    "        What are the venues of the two best places to live? How the prices compare?\n",
    "        How venues distribute among Manhattan neighborhoods and around metro stations?\n",
    "        Are there tradeoffs between size and price and location?\n",
    "        Any other interesting statistical data findings of the real estate and overall data."
   ]
  },
  {
   "cell_type": "markdown",
   "metadata": {},
   "source": [
    "### Venues in S Olive Street, Los Angeles for comparison to Manhattan"
   ]
  },
  {
   "cell_type": "code",
   "execution_count": 9,
   "metadata": {},
   "outputs": [
    {
     "name": "stderr",
     "output_type": "stream",
     "text": [
      "/anaconda3/lib/python3.7/site-packages/ipykernel_launcher.py:4: DeprecationWarning: Using Nominatim with the default \"geopy/1.20.0\" `user_agent` is strongly discouraged, as it violates Nominatim's ToS https://operations.osmfoundation.org/policies/nominatim/ and may possibly cause 403 and 429 HTTP errors. Please specify a custom `user_agent` with `Nominatim(user_agent=\"my-application\")` or by overriding the default `user_agent`: `geopy.geocoders.options.default_user_agent = \"my-application\"`. In geopy 2.0 this will become an exception.\n",
      "  after removing the cwd from sys.path.\n"
     ]
    },
    {
     "name": "stdout",
     "output_type": "stream",
     "text": [
      "The geograpical coordinate of S olive st are 34.0337442, -118.2665409.\n"
     ]
    }
   ],
   "source": [
    "# S Olive St , Los Angeles, California, USA\n",
    "address = 'S Olive St , Los Angeles'\n",
    " \n",
    "geolocator = Nominatim()\n",
    "location = geolocator.geocode(address)\n",
    "latitude = location.latitude\n",
    "longitude = location.longitude\n",
    "print('The geograpical coordinate of S olive st are {}, {}.'.format(latitude, longitude))\n"
   ]
  },
  {
   "cell_type": "code",
   "execution_count": 12,
   "metadata": {},
   "outputs": [],
   "source": [
    "neighborhood_latitude=34.0337442\n",
    "neighborhood_longitude=-118.2665409"
   ]
  },
  {
   "cell_type": "code",
   "execution_count": 15,
   "metadata": {},
   "outputs": [
    {
     "name": "stdout",
     "output_type": "stream",
     "text": [
      "Your credentails:\n",
      "CLIENT_ID: ADCJV1VMO4BD2ZIR1WWMQY5FCULQLUI1MYATA4PZLTZP5ZCW\n",
      "CLIENT_SECRET:VWTSYCXR2GE5LYRZCQMMGHICDYFVTXEAHLAKCANNNIWGGBYX\n"
     ]
    }
   ],
   "source": [
    "CLIENT_ID = 'ADCJV1VMO4BD2ZIR1WWMQY5FCULQLUI1MYATA4PZLTZP5ZCW' # your Foursquare ID\n",
    "CLIENT_SECRET = 'VWTSYCXR2GE5LYRZCQMMGHICDYFVTXEAHLAKCANNNIWGGBYX' # your Foursquare Secret\n",
    "VERSION = '20180604'\n",
    "LIMIT = 30\n",
    "print('Your credentails:')\n",
    "print('CLIENT_ID: ' + CLIENT_ID)\n",
    "print('CLIENT_SECRET:' + CLIENT_SECRET)"
   ]
  },
  {
   "cell_type": "code",
   "execution_count": 16,
   "metadata": {},
   "outputs": [
    {
     "data": {
      "text/plain": [
       "'https://api.foursquare.com/v2/venues/explore?&client_id=ADCJV1VMO4BD2ZIR1WWMQY5FCULQLUI1MYATA4PZLTZP5ZCW&client_secret=VWTSYCXR2GE5LYRZCQMMGHICDYFVTXEAHLAKCANNNIWGGBYX&v=20180604&ll=34.0337442,-118.2665409&radius=500&limit=100'"
      ]
     },
     "execution_count": 16,
     "metadata": {},
     "output_type": "execute_result"
    }
   ],
   "source": [
    "LIMIT = 100 # limit of number of venues returned by Foursquare API\n",
    "radius = 500 # define radius\n",
    "\n",
    "# create URL\n",
    "url = 'https://api.foursquare.com/v2/venues/explore?&client_id={}&client_secret={}&v={}&ll={},{}&radius={}&limit={}'.format(\n",
    "    CLIENT_ID, \n",
    "    CLIENT_SECRET, \n",
    "    VERSION, \n",
    "    neighborhood_latitude, \n",
    "    neighborhood_longitude, \n",
    "    radius, \n",
    "    LIMIT)\n",
    "url # display URL"
   ]
  },
  {
   "cell_type": "code",
   "execution_count": 17,
   "metadata": {},
   "outputs": [],
   "source": [
    "results = requests.get(url).json()\n",
    "#results"
   ]
  },
  {
   "cell_type": "code",
   "execution_count": 18,
   "metadata": {},
   "outputs": [],
   "source": [
    "# function that extracts the category of the venue\n",
    "def get_category_type(row):\n",
    "    try:\n",
    "        categories_list = row['categories']\n",
    "    except:\n",
    "        categories_list = row['venue.categories']\n",
    "        \n",
    "    if len(categories_list) == 0:\n",
    "        return None\n",
    "    else:\n",
    "        return categories_list[0]['name']\n"
   ]
  },
  {
   "cell_type": "code",
   "execution_count": 19,
   "metadata": {},
   "outputs": [
    {
     "data": {
      "text/html": [
       "<div>\n",
       "<style scoped>\n",
       "    .dataframe tbody tr th:only-of-type {\n",
       "        vertical-align: middle;\n",
       "    }\n",
       "\n",
       "    .dataframe tbody tr th {\n",
       "        vertical-align: top;\n",
       "    }\n",
       "\n",
       "    .dataframe thead th {\n",
       "        text-align: right;\n",
       "    }\n",
       "</style>\n",
       "<table border=\"1\" class=\"dataframe\">\n",
       "  <thead>\n",
       "    <tr style=\"text-align: right;\">\n",
       "      <th></th>\n",
       "      <th>name</th>\n",
       "      <th>categories</th>\n",
       "      <th>lat</th>\n",
       "      <th>lng</th>\n",
       "    </tr>\n",
       "  </thead>\n",
       "  <tbody>\n",
       "    <tr>\n",
       "      <th>0</th>\n",
       "      <td>Olde Good Things</td>\n",
       "      <td>Antique Shop</td>\n",
       "      <td>34.033974</td>\n",
       "      <td>-118.267079</td>\n",
       "    </tr>\n",
       "    <tr>\n",
       "      <th>1</th>\n",
       "      <td>Umami Truck</td>\n",
       "      <td>Food Truck</td>\n",
       "      <td>34.033558</td>\n",
       "      <td>-118.264034</td>\n",
       "    </tr>\n",
       "    <tr>\n",
       "      <th>2</th>\n",
       "      <td>(the) handbag factory</td>\n",
       "      <td>Music Venue</td>\n",
       "      <td>34.037844</td>\n",
       "      <td>-118.264778</td>\n",
       "    </tr>\n",
       "    <tr>\n",
       "      <th>3</th>\n",
       "      <td>SUBWAY</td>\n",
       "      <td>Sandwich Place</td>\n",
       "      <td>34.032289</td>\n",
       "      <td>-118.266522</td>\n",
       "    </tr>\n",
       "    <tr>\n",
       "      <th>4</th>\n",
       "      <td>Food Haus Cafè</td>\n",
       "      <td>Café</td>\n",
       "      <td>34.029887</td>\n",
       "      <td>-118.268778</td>\n",
       "    </tr>\n",
       "    <tr>\n",
       "      <th>5</th>\n",
       "      <td>Jack in the Box</td>\n",
       "      <td>Fast Food Restaurant</td>\n",
       "      <td>34.034064</td>\n",
       "      <td>-118.264046</td>\n",
       "    </tr>\n",
       "    <tr>\n",
       "      <th>6</th>\n",
       "      <td>L.A. Mart</td>\n",
       "      <td>Furniture / Home Store</td>\n",
       "      <td>34.030778</td>\n",
       "      <td>-118.266490</td>\n",
       "    </tr>\n",
       "    <tr>\n",
       "      <th>7</th>\n",
       "      <td>Downtown Collective</td>\n",
       "      <td>Pharmacy</td>\n",
       "      <td>34.034382</td>\n",
       "      <td>-118.264308</td>\n",
       "    </tr>\n",
       "    <tr>\n",
       "      <th>8</th>\n",
       "      <td>Artisanal LA</td>\n",
       "      <td>Street Art</td>\n",
       "      <td>34.030300</td>\n",
       "      <td>-118.266609</td>\n",
       "    </tr>\n",
       "    <tr>\n",
       "      <th>9</th>\n",
       "      <td>Sports Museum of Los Angeles</td>\n",
       "      <td>Museum</td>\n",
       "      <td>34.030572</td>\n",
       "      <td>-118.264829</td>\n",
       "    </tr>\n",
       "  </tbody>\n",
       "</table>\n",
       "</div>"
      ],
      "text/plain": [
       "                           name              categories        lat         lng\n",
       "0              Olde Good Things            Antique Shop  34.033974 -118.267079\n",
       "1                   Umami Truck              Food Truck  34.033558 -118.264034\n",
       "2         (the) handbag factory             Music Venue  34.037844 -118.264778\n",
       "3                        SUBWAY          Sandwich Place  34.032289 -118.266522\n",
       "4                Food Haus Cafè                    Café  34.029887 -118.268778\n",
       "5               Jack in the Box    Fast Food Restaurant  34.034064 -118.264046\n",
       "6                     L.A. Mart  Furniture / Home Store  34.030778 -118.266490\n",
       "7           Downtown Collective                Pharmacy  34.034382 -118.264308\n",
       "8                  Artisanal LA              Street Art  34.030300 -118.266609\n",
       "9  Sports Museum of Los Angeles                  Museum  34.030572 -118.264829"
      ]
     },
     "execution_count": 19,
     "metadata": {},
     "output_type": "execute_result"
    }
   ],
   "source": [
    "venues = results['response']['groups'][0]['items']\n",
    "    \n",
    "SGnearby_venues = json_normalize(venues) # flatten JSON\n",
    "\n",
    "# filter columns\n",
    "filtered_columns = ['venue.name', 'venue.categories', 'venue.location.lat', 'venue.location.lng']\n",
    "SGnearby_venues =SGnearby_venues.loc[:, filtered_columns]\n",
    "\n",
    "# filter the category for each row\n",
    "SGnearby_venues['venue.categories'] = SGnearby_venues.apply(get_category_type, axis=1)\n",
    "\n",
    "# clean columns\n",
    "SGnearby_venues.columns = [col.split(\".\")[-1] for col in SGnearby_venues.columns]\n",
    "\n",
    "SGnearby_venues.head(10)"
   ]
  },
  {
   "cell_type": "markdown",
   "metadata": {},
   "source": [
    "### Map of Los Angeles with venues "
   ]
  },
  {
   "cell_type": "code",
   "execution_count": 25,
   "metadata": {},
   "outputs": [
    {
     "data": {
      "text/html": [
       "<div style=\"width:100%;\"><div style=\"position:relative;width:100%;height:0;padding-bottom:60%;\"><iframe src=\"data:text/html;charset=utf-8;base64,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\" style=\"position:absolute;width:100%;height:100%;left:0;top:0;border:none !important;\" allowfullscreen webkitallowfullscreen mozallowfullscreen></iframe></div></div>"
      ],
      "text/plain": [
       "<folium.folium.Map at 0x1a27af6048>"
      ]
     },
     "execution_count": 25,
     "metadata": {},
     "output_type": "execute_result"
    }
   ],
   "source": [
    "# create map of Los Angeles using by latitude and longitude values\n",
    "map_la = folium.Map(location=[latitude, longitude], zoom_start=15)\n",
    "\n",
    "# add markers to map\n",
    "for lat, lng, label in zip(SGnearby_venues['lat'], SGnearby_venues['lng'], SGnearby_venues['name']):\n",
    "    label = folium.Popup(label, parse_html=True)\n",
    "    folium.RegularPolygonMarker(\n",
    "        [lat, lng],\n",
    "        number_of_sides=4,\n",
    "        radius=10,\n",
    "        popup=label,\n",
    "        color='blue',\n",
    "        fill_color='#0f0f0f',\n",
    "        fill_opacity=0.7,\n",
    "    ).add_to(map_la)  \n",
    "    \n",
    "map_la"
   ]
  },
  {
   "cell_type": "markdown",
   "metadata": {},
   "source": [
    "## NOTE :\n",
    "\n",
    " Other sections will be described in The Battle of Neighborhoods - Week 2"
   ]
  }
 ],
 "metadata": {
  "kernelspec": {
   "display_name": "Python 3",
   "language": "python",
   "name": "python3"
  },
  "language_info": {
   "codemirror_mode": {
    "name": "ipython",
    "version": 3
   },
   "file_extension": ".py",
   "mimetype": "text/x-python",
   "name": "python",
   "nbconvert_exporter": "python",
   "pygments_lexer": "ipython3",
   "version": "3.7.3"
  }
 },
 "nbformat": 4,
 "nbformat_minor": 2
}
