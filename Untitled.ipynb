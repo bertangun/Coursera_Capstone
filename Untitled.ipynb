{
 "cells": [
  {
   "cell_type": "markdown",
   "metadata": {},
   "source": [
    "# The Battle of Neighborhoods - Week 2"
   ]
  },
  {
   "cell_type": "markdown",
   "metadata": {},
   "source": [
    "## Coursera Capstone Final Report\n",
    "\n",
    "\n",
    "     1)Introduction Section : Discussion of the business problem and the interested audience in this project.\n",
    "         1.1 Discussion of the \"backgroung situation\" leading to the problem at hand:\n",
    "         1.2 Problem to be resolved\n",
    "         \n",
    "     2)Data Section: Description of the data that will be used to solve the problem.\n",
    "         2.1 Data of Current Situation\n",
    "         2.2 Data required to resolve the problem\n",
    "         2.3 Data sources and data manipulation\n",
    "         \n",
    "     3)Methodology section : Discussion and description of exploratory data analysis carried out, any inferential statistical testing performed, and if any machine learnings were used establishing the strategy and purposes\n",
    "         3.1 Process steps and strategy to resolve the problem\n",
    "         3.2 Data Science Methods, machine learing, mapping tools and exploratory data analysis.\n",
    "         \n",
    "     4)Results section : Discussion of the results.\n",
    "         Discussion of the results and how they help to take a decision\n",
    "     \n",
    "     5)Discussion section : Elaboration and discussion on any observations noted and any recommendations suggested based on the results.\n",
    "          Discussion on any observations and/or recommendations for improvement.\n",
    "          \n",
    "     6)Conclusion section : Report Conclusion.\n",
    "          Desicison taken and Report Conclusion."
   ]
  },
  {
   "cell_type": "markdown",
   "metadata": {},
   "source": [
    "### Libraries"
   ]
  },
  {
   "cell_type": "code",
   "execution_count": 1,
   "metadata": {},
   "outputs": [
    {
     "name": "stdout",
     "output_type": "stream",
     "text": [
      "Requirement already satisfied: geopy in /anaconda3/lib/python3.7/site-packages (1.20.0)\n",
      "Requirement already satisfied: geographiclib<2,>=1.49 in /anaconda3/lib/python3.7/site-packages (from geopy) (1.49)\n",
      "Collecting package metadata: done\n",
      "Solving environment: done\n",
      "\n",
      "# All requested packages already installed.\n",
      "\n",
      "Libraries imported.\n"
     ]
    }
   ],
   "source": [
    "import numpy as np \n",
    "import pandas as pd \n",
    "pd.set_option('display.max_columns', None)\n",
    "pd.set_option('display.max_rows', None)\n",
    "import json \n",
    "!pip install geopy \n",
    "from geopy.geocoders import Nominatim \n",
    "import requests\n",
    "from pandas.io.json import json_normalize \n",
    "import time\n",
    "!conda install -c conda-forge folium=0.5.0 --yes\n",
    "import folium # plotting library\n",
    "import matplotlib.cm as cm\n",
    "import matplotlib.colors as colors\n",
    "import seaborn as sns\n",
    "# import k-means from clustering stage\n",
    "from sklearn.cluster import KMeans\n",
    "\n",
    "print('Libraries imported.')"
   ]
  },
  {
   "cell_type": "markdown",
   "metadata": {},
   "source": [
    "## 1)Introduction\n",
    "\n",
    "        Discussion of the business problem and the interested audience in this project.\n",
    "\n",
    "### 1.1 Background:\n",
    "\n",
    "        When someone or a family is trying to find the best places to live, it's always a good idea to compare cities and if possible, to compare neighborhoods to see if it suites your taste. After all, when you go to buy a car or a house or any big ticket item, you usually try out a few models or visit a few homes before you decide. The same tactic applies to finding the best places to live. It is always advisable to do it before you start planning your move or to help narrow down your choices.When thinking about the best place to live, lots of things are considered when trying to make a comparison between cities, towns, or neighborhoods. Some of theses includes:\n",
    " \n",
    "### 1.2 Problem to be resolved:\n",
    "\n",
    "        How can I find a convenient and enjoyable place similar to mine now in Los Angeles? Certainly, I can use available real estate apps and Google but the idea is to use and apply myself the learned tools during the course. In order to make a comparison and evaluation of the rental options in Manhattan NY, I must set some basis configurations. "
   ]
  },
  {
   "cell_type": "markdown",
   "metadata": {},
   "source": [
    "## 2) Data Section:\n",
    "\n",
    "        Description of the data and its sources that will be used to solve the problem\n",
    "       \n",
    "### 2.1 Description of the Data:\n",
    "   \n",
    "        The following data is required to answer the issues of the problem:\n",
    "        List of Boroughs and neighborhoods of Manhattan with their geodata (latitude and longitude)\n",
    "        List of Subway metro stations in Manhattan with their address location\n",
    "        List of apartments for rent in Manhattan area with their addresses and price\n",
    "        Preferably, a list of apartment for rent with additional information, such as price, address, area, number of beds, etc\n",
    "        Clustered venues for each Manhattan neighborhood \n",
    "        Venues for subway metro stations\n",
    "\n",
    "### 2.2 The data will be used as follows:\n",
    "\n",
    "        Use Foursquare and geopy data to map top 10 venues for all Manhattan neighborhoods and clustered in groups\n",
    "        Use foursquare and geopy data to map the location of subway metro stations , separately and on top of the above clustered map in order to be able to identify the venues and ammenities near each metro station, or explore each subway location separately.\n",
    "        Use Foursquare and geopy data to map the location of rental places, in some form, linked to the subway locations ,create a map that depicts, for instance, the average rental price per square ft, around a radious of 1.0 miles(1.6 km) around each subway station - or a similar metrics. I will be able to quickly point to the popups to know the relative price per subway area.\n",
    "        Addresses from rental locations will be converted to geodata( lat, long) using Geopy-distance and Nominatim.\n",
    "        Data will be searched in open data sources if available, from real estate sites if open to reading, libraries or other government agencies such as Metro New York MTA, etc.\n",
    "        \n",
    "        A list of places for rent was collected by web-browsing real estate companies in Manhattan : http://www.rentmanhattan.com/index.cfm?page=search&state=results https://www.nestpick.com/search?city=new-york&page=1&order=relevance&district=manhattan&gclid=CjwKCAiAjNjgBRAgEiwAGLlf2hkP3A-cPxjZYkURqQEswQK2jKQEpv_MvKcrIhRWRzNkc_r-fGi0lxoCA7cQAvD_BwE&type=apartment&display=list https://www.realtor.com/apartments/Manhattan_NY A csv file was compiled with the rental place that indicated: areas of Manhattan, address, number of beds, area and monthly rental price. The csv file \"nnnn.csv\" had the following below structure. An algorythm was used to create all the geodata using Nominatim, as shown in section 3.0. The actual coding may be shown in 'markdown' mode because it takes time to run. With the use of geolocator = Nominatim() , it was possible to determine the latitude and longiude for the subway metro locations as well as for the geodata for each rental place listed. The loop algorythms used are shown in the execution of data in section 3.0 \"Great_circle\" function from geolocator was used to calculate distances between two points , as in the case to calculate average rent price for units around each subway station and at 1.6 km radius. Foursquare is used to find the avenues at Manhattan neighborhoods in general and a cluster is created to later be able to search for the venues depending of the location shown.\n",
    "        \n",
    "         A list of Manhattan subway metro stops was complied in Numbers (Apple excel) and it was complemeted with wikipedia data ( https://en.wikipedia.org/wiki/List_of_New_York_City_Subway_stations_in_Manhattan) and information from NY Transit authority and Google maps (https://www.google.com/maps/search/manhattan+subway+metro+stations/@40.7837297,-74.1033043,11z/data=!3m1!4b1) for a final consolidated list of subway stops names and their address. The geolocation was obtained via an algorythm using Nominatim. Details will be shown in the execution of methodolody in section 3.0. The subway csv file is ''MH_subway.csv'\" and the data structure is: mhsub.tail(): sub_station sub_address lat long.\n",
    "\n",
    "### 2.3 The procesing of data will allow to answer the key questions to make a decision:\n",
    "\n",
    "    what is the cost of rent (per square ft) around a mile radius from each subway metro station?\n",
    "    what is the area of Manhattan with best rental pricing that meets criteria established?\n",
    "    What is the distance from work place ( Park Ave and 53 rd St) and the tentative future home?\n",
    "    What are the venues of the two best places to live? How the prices compare?\n",
    "    How venues distribute among Manhattan neighborhoods and around metro stations?\n",
    "    Are there tradeoffs between size and price and location?\n",
    "    Any other interesting statistical data findings of the real estate and overall data.\n",
    "    \n",
    "   \n",
    "\n"
   ]
  },
  {
   "cell_type": "markdown",
   "metadata": {},
   "source": [
    "## 3. Methodology section:\n",
    "\n",
    "        This section represents the main component of the report where the data is gathered, prepared for analysis. The tools described are used here and the Notebook cells indicates the execution of steps.\n",
    "        \n",
    "### 3.1 Process steps and strategy to resolve the problem:\n",
    "    \n",
    "        The strategy is based on mapping the above described data in section 2.0, in order to facilitate the choice of at least two candidate places for rent. The choice is made based on the demands imposed : location near a subway, rental price and similar venues to Los Angeles. This visual approach and maps with popups labels allow quick identification of location, price and feature, thus making the selection very easy.\n",
    "        \n",
    "        The procesing of these DATA and its mapping will allow to answer the key questions to make a decision:\n",
    "        \n",
    "            what is the cost of available rental places that meet the demands?\n",
    "            what is the cost of rent around a mile radius from each subway metro station?\n",
    "            what is the area of Manhattan with best rental pricing that meets criteria established?\n",
    "            What is the distance from work place ( Park Ave and 53 rd St) and the tentative future rental home?\n",
    "            What are the venues of the two best places to live? How the prices compare?\n",
    "            How venues distribute among Manhattan neighborhoods and around metro stations?\n",
    "            Are there tradeoffs between size and price and location?\n",
    "            Any other interesting statistical data findings of the real estate and overall data."
   ]
  },
  {
   "cell_type": "markdown",
   "metadata": {},
   "source": [
    "### 3.2 Data Science Methods, machine Learning, mapping tools and exploratory data analysis:"
   ]
  },
  {
   "cell_type": "markdown",
   "metadata": {},
   "source": [
    "### Venues in S Olive Street, Los Angeles for comparison to Manhattan"
   ]
  },
  {
   "cell_type": "code",
   "execution_count": 2,
   "metadata": {},
   "outputs": [
    {
     "name": "stderr",
     "output_type": "stream",
     "text": [
      "/anaconda3/lib/python3.7/site-packages/ipykernel_launcher.py:4: DeprecationWarning: Using Nominatim with the default \"geopy/1.20.0\" `user_agent` is strongly discouraged, as it violates Nominatim's ToS https://operations.osmfoundation.org/policies/nominatim/ and may possibly cause 403 and 429 HTTP errors. Please specify a custom `user_agent` with `Nominatim(user_agent=\"my-application\")` or by overriding the default `user_agent`: `geopy.geocoders.options.default_user_agent = \"my-application\"`. In geopy 2.0 this will become an exception.\n",
      "  after removing the cwd from sys.path.\n"
     ]
    },
    {
     "name": "stdout",
     "output_type": "stream",
     "text": [
      "The geograpical coordinate of S olive st are 34.0337442, -118.2665409.\n"
     ]
    }
   ],
   "source": [
    "# S Olive St , Los Angeles, California, USA\n",
    "address = 'S Olive St , Los Angeles'\n",
    " \n",
    "geolocator = Nominatim()\n",
    "location = geolocator.geocode(address)\n",
    "latitude = location.latitude\n",
    "longitude = location.longitude\n",
    "print('The geograpical coordinate of S olive st are {}, {}.'.format(latitude, longitude))"
   ]
  },
  {
   "cell_type": "code",
   "execution_count": 3,
   "metadata": {},
   "outputs": [],
   "source": [
    "neighborhood_latitude=34.0337442\n",
    "neighborhood_longitude=-118.2665409"
   ]
  },
  {
   "cell_type": "code",
   "execution_count": 4,
   "metadata": {},
   "outputs": [
    {
     "name": "stdout",
     "output_type": "stream",
     "text": [
      "Your credentails:\n",
      "CLIENT_ID: ADCJV1VMO4BD2ZIR1WWMQY5FCULQLUI1MYATA4PZLTZP5ZCW\n",
      "CLIENT_SECRET:VWTSYCXR2GE5LYRZCQMMGHICDYFVTXEAHLAKCANNNIWGGBYX\n"
     ]
    }
   ],
   "source": [
    "\n",
    "\n",
    "CLIENT_ID = 'ADCJV1VMO4BD2ZIR1WWMQY5FCULQLUI1MYATA4PZLTZP5ZCW' # your Foursquare ID\n",
    "CLIENT_SECRET = 'VWTSYCXR2GE5LYRZCQMMGHICDYFVTXEAHLAKCANNNIWGGBYX' # your Foursquare Secret\n",
    "VERSION = '20180604'\n",
    "LIMIT = 30\n",
    "print('Your credentails:')\n",
    "print('CLIENT_ID: ' + CLIENT_ID)\n",
    "print('CLIENT_SECRET:' + CLIENT_SECRET)"
   ]
  },
  {
   "cell_type": "code",
   "execution_count": 5,
   "metadata": {},
   "outputs": [
    {
     "data": {
      "text/plain": [
       "'https://api.foursquare.com/v2/venues/explore?&client_id=ADCJV1VMO4BD2ZIR1WWMQY5FCULQLUI1MYATA4PZLTZP5ZCW&client_secret=VWTSYCXR2GE5LYRZCQMMGHICDYFVTXEAHLAKCANNNIWGGBYX&v=20180604&ll=34.0337442,-118.2665409&radius=500&limit=100'"
      ]
     },
     "execution_count": 5,
     "metadata": {},
     "output_type": "execute_result"
    }
   ],
   "source": [
    "LIMIT = 100 # limit of number of venues returned by Foursquare API\n",
    "radius = 500 # define radius\n",
    "\n",
    "# create URL\n",
    "url = 'https://api.foursquare.com/v2/venues/explore?&client_id={}&client_secret={}&v={}&ll={},{}&radius={}&limit={}'.format(\n",
    "    CLIENT_ID, \n",
    "    CLIENT_SECRET, \n",
    "    VERSION, \n",
    "    neighborhood_latitude, \n",
    "    neighborhood_longitude, \n",
    "    radius, \n",
    "    LIMIT)\n",
    "url # display URL"
   ]
  },
  {
   "cell_type": "code",
   "execution_count": 6,
   "metadata": {},
   "outputs": [],
   "source": [
    "results = requests.get(url).json()\n",
    "#results"
   ]
  },
  {
   "cell_type": "code",
   "execution_count": 7,
   "metadata": {},
   "outputs": [],
   "source": [
    "# function that extracts the category of the venue\n",
    "def get_category_type(row):\n",
    "    try:\n",
    "        categories_list = row['categories']\n",
    "    except:\n",
    "        categories_list = row['venue.categories']\n",
    "        \n",
    "    if len(categories_list) == 0:\n",
    "        return None\n",
    "    else:\n",
    "        return categories_list[0]['name']"
   ]
  },
  {
   "cell_type": "code",
   "execution_count": 8,
   "metadata": {},
   "outputs": [
    {
     "data": {
      "text/html": [
       "<div>\n",
       "<style scoped>\n",
       "    .dataframe tbody tr th:only-of-type {\n",
       "        vertical-align: middle;\n",
       "    }\n",
       "\n",
       "    .dataframe tbody tr th {\n",
       "        vertical-align: top;\n",
       "    }\n",
       "\n",
       "    .dataframe thead th {\n",
       "        text-align: right;\n",
       "    }\n",
       "</style>\n",
       "<table border=\"1\" class=\"dataframe\">\n",
       "  <thead>\n",
       "    <tr style=\"text-align: right;\">\n",
       "      <th></th>\n",
       "      <th>name</th>\n",
       "      <th>categories</th>\n",
       "      <th>lat</th>\n",
       "      <th>lng</th>\n",
       "    </tr>\n",
       "  </thead>\n",
       "  <tbody>\n",
       "    <tr>\n",
       "      <th>0</th>\n",
       "      <td>Olde Good Things</td>\n",
       "      <td>Antique Shop</td>\n",
       "      <td>34.033974</td>\n",
       "      <td>-118.267079</td>\n",
       "    </tr>\n",
       "    <tr>\n",
       "      <th>1</th>\n",
       "      <td>Umami Truck</td>\n",
       "      <td>Food Truck</td>\n",
       "      <td>34.033558</td>\n",
       "      <td>-118.264034</td>\n",
       "    </tr>\n",
       "    <tr>\n",
       "      <th>2</th>\n",
       "      <td>(the) handbag factory</td>\n",
       "      <td>Music Venue</td>\n",
       "      <td>34.037844</td>\n",
       "      <td>-118.264778</td>\n",
       "    </tr>\n",
       "    <tr>\n",
       "      <th>3</th>\n",
       "      <td>SUBWAY</td>\n",
       "      <td>Sandwich Place</td>\n",
       "      <td>34.032289</td>\n",
       "      <td>-118.266522</td>\n",
       "    </tr>\n",
       "    <tr>\n",
       "      <th>4</th>\n",
       "      <td>Food Haus Cafè</td>\n",
       "      <td>Café</td>\n",
       "      <td>34.029887</td>\n",
       "      <td>-118.268778</td>\n",
       "    </tr>\n",
       "    <tr>\n",
       "      <th>5</th>\n",
       "      <td>Jack in the Box</td>\n",
       "      <td>Fast Food Restaurant</td>\n",
       "      <td>34.034064</td>\n",
       "      <td>-118.264046</td>\n",
       "    </tr>\n",
       "    <tr>\n",
       "      <th>6</th>\n",
       "      <td>L.A. Mart</td>\n",
       "      <td>Furniture / Home Store</td>\n",
       "      <td>34.030778</td>\n",
       "      <td>-118.266490</td>\n",
       "    </tr>\n",
       "    <tr>\n",
       "      <th>7</th>\n",
       "      <td>Downtown Collective</td>\n",
       "      <td>Pharmacy</td>\n",
       "      <td>34.034382</td>\n",
       "      <td>-118.264308</td>\n",
       "    </tr>\n",
       "    <tr>\n",
       "      <th>8</th>\n",
       "      <td>Artisanal LA</td>\n",
       "      <td>Street Art</td>\n",
       "      <td>34.030300</td>\n",
       "      <td>-118.266609</td>\n",
       "    </tr>\n",
       "    <tr>\n",
       "      <th>9</th>\n",
       "      <td>Sports Museum of Los Angeles</td>\n",
       "      <td>Museum</td>\n",
       "      <td>34.030572</td>\n",
       "      <td>-118.264829</td>\n",
       "    </tr>\n",
       "  </tbody>\n",
       "</table>\n",
       "</div>"
      ],
      "text/plain": [
       "                           name              categories        lat         lng\n",
       "0              Olde Good Things            Antique Shop  34.033974 -118.267079\n",
       "1                   Umami Truck              Food Truck  34.033558 -118.264034\n",
       "2         (the) handbag factory             Music Venue  34.037844 -118.264778\n",
       "3                        SUBWAY          Sandwich Place  34.032289 -118.266522\n",
       "4                Food Haus Cafè                    Café  34.029887 -118.268778\n",
       "5               Jack in the Box    Fast Food Restaurant  34.034064 -118.264046\n",
       "6                     L.A. Mart  Furniture / Home Store  34.030778 -118.266490\n",
       "7           Downtown Collective                Pharmacy  34.034382 -118.264308\n",
       "8                  Artisanal LA              Street Art  34.030300 -118.266609\n",
       "9  Sports Museum of Los Angeles                  Museum  34.030572 -118.264829"
      ]
     },
     "execution_count": 8,
     "metadata": {},
     "output_type": "execute_result"
    }
   ],
   "source": [
    "venues = results['response']['groups'][0]['items']\n",
    "    \n",
    "SGnearby_venues = json_normalize(venues) # flatten JSON\n",
    "\n",
    "# filter columns\n",
    "filtered_columns = ['venue.name', 'venue.categories', 'venue.location.lat', 'venue.location.lng']\n",
    "SGnearby_venues =SGnearby_venues.loc[:, filtered_columns]\n",
    "\n",
    "# filter the category for each row\n",
    "SGnearby_venues['venue.categories'] = SGnearby_venues.apply(get_category_type, axis=1)\n",
    "\n",
    "# clean columns\n",
    "SGnearby_venues.columns = [col.split(\".\")[-1] for col in SGnearby_venues.columns]\n",
    "\n",
    "SGnearby_venues.head(10)"
   ]
  },
  {
   "cell_type": "markdown",
   "metadata": {},
   "source": [
    "### Map of Los Angeles with venues"
   ]
  },
  {
   "cell_type": "code",
   "execution_count": 9,
   "metadata": {},
   "outputs": [
    {
     "data": {
      "text/html": [
       "<div style=\"width:100%;\"><div style=\"position:relative;width:100%;height:0;padding-bottom:60%;\"><iframe src=\"data:text/html;charset=utf-8;base64,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\" style=\"position:absolute;width:100%;height:100%;left:0;top:0;border:none !important;\" allowfullscreen webkitallowfullscreen mozallowfullscreen></iframe></div></div>"
      ],
      "text/plain": [
       "<folium.folium.Map at 0x1a1bfccf28>"
      ]
     },
     "execution_count": 9,
     "metadata": {},
     "output_type": "execute_result"
    }
   ],
   "source": [
    "# create map of Los Angeles using by latitude and longitude values\n",
    "map_la = folium.Map(location=[latitude, longitude], zoom_start=15)\n",
    "\n",
    "# add markers to map\n",
    "for lat, lng, label in zip(SGnearby_venues['lat'], SGnearby_venues['lng'], SGnearby_venues['name']):\n",
    "    label = folium.Popup(label, parse_html=True)\n",
    "    folium.RegularPolygonMarker(\n",
    "        [lat, lng],\n",
    "        number_of_sides=4,\n",
    "        radius=10,\n",
    "        popup=label,\n",
    "        color='blue',\n",
    "        fill_color='#0f0f0f',\n",
    "        fill_opacity=0.7,\n",
    "    ).add_to(map_la)  \n",
    "    \n",
    "map_la"
   ]
  },
  {
   "cell_type": "code",
   "execution_count": null,
   "metadata": {},
   "outputs": [],
   "source": []
  },
  {
   "cell_type": "code",
   "execution_count": null,
   "metadata": {},
   "outputs": [],
   "source": []
  },
  {
   "cell_type": "code",
   "execution_count": null,
   "metadata": {},
   "outputs": [],
   "source": []
  },
  {
   "cell_type": "code",
   "execution_count": null,
   "metadata": {},
   "outputs": [],
   "source": []
  },
  {
   "cell_type": "code",
   "execution_count": null,
   "metadata": {},
   "outputs": [],
   "source": []
  }
 ],
 "metadata": {
  "kernelspec": {
   "display_name": "Python 3",
   "language": "python",
   "name": "python3"
  },
  "language_info": {
   "codemirror_mode": {
    "name": "ipython",
    "version": 3
   },
   "file_extension": ".py",
   "mimetype": "text/x-python",
   "name": "python",
   "nbconvert_exporter": "python",
   "pygments_lexer": "ipython3",
   "version": "3.7.3"
  }
 },
 "nbformat": 4,
 "nbformat_minor": 2
}
