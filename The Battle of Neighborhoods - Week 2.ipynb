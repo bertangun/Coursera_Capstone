{
 "cells": [
  {
   "cell_type": "markdown",
   "metadata": {},
   "source": [
    "# The Battle of Neighborhoods - Week 2"
   ]
  },
  {
   "cell_type": "markdown",
   "metadata": {},
   "source": [
    "## Coursera Capstone Week 2\n",
    "\n",
    "\n",
    "     1)Introduction Section : Discussion of the business problem and the interested audience in this project.\n",
    "         1.1 Discussion of the \"backgroung situation\" leading to the problem at hand:\n",
    "         1.2 Problem to be resolved\n",
    "         \n",
    "     2)Data Section: Description of the data that will be used to solve the problem.\n",
    "         2.1 Data of Current Situation\n",
    "         2.2 Data required to resolve the problem\n",
    "         2.3 Data sources and data manipulation\n",
    "         \n",
    "     3)Methodology section : Discussion and description of exploratory data analysis carried out, any inferential statistical testing performed, and if any machine learnings were used establishing the strategy and purposes\n",
    "         3.1 Process steps and strategy to resolve the problem\n",
    "         3.2 Data Science Methods, machine learing, mapping tools and exploratory data analysis.\n",
    "         \n",
    "     4)Results section : Discussion of the results.\n",
    "         Discussion of the results and how they help to take a decision\n",
    "     \n",
    "     5)Discussion section : Elaboration and discussion on any observations noted and any recommendations suggested based on the results.\n",
    "          Discussion on any observations and/or recommendations for improvement.\n",
    "          \n",
    "     6)Conclusion section : Report Conclusion.\n",
    "          Desicison taken and Report Conclusion."
   ]
  },
  {
   "cell_type": "markdown",
   "metadata": {},
   "source": [
    "### Libraries"
   ]
  },
  {
   "cell_type": "code",
   "execution_count": 12,
   "metadata": {},
   "outputs": [
    {
     "name": "stdout",
     "output_type": "stream",
     "text": [
      "Requirement already satisfied: geopy in /anaconda3/lib/python3.7/site-packages (1.20.0)\n",
      "Requirement already satisfied: geographiclib<2,>=1.49 in /anaconda3/lib/python3.7/site-packages (from geopy) (1.49)\n",
      "Collecting package metadata: done\n",
      "Solving environment: done\n",
      "\n",
      "# All requested packages already installed.\n",
      "\n",
      "Libraries imported.\n"
     ]
    }
   ],
   "source": [
    "import numpy as np \n",
    "import pandas as pd \n",
    "pd.set_option('display.max_columns', None)\n",
    "pd.set_option('display.max_rows', None)\n",
    "import json \n",
    "!pip install geopy \n",
    "from geopy.geocoders import Nominatim \n",
    "import requests\n",
    "from pandas.io.json import json_normalize \n",
    "import time\n",
    "!conda install -c conda-forge folium=0.5.0 --yes\n",
    "import folium # plotting library\n",
    "import matplotlib.cm as cm\n",
    "import matplotlib.colors as colors\n",
    "import seaborn as sns\n",
    "# import k-means from clustering stage\n",
    "from sklearn.cluster import KMeans\n",
    "\n",
    "print('Libraries imported.')"
   ]
  },
  {
   "cell_type": "markdown",
   "metadata": {},
   "source": [
    "## 1)Introduction\n",
    "\n",
    "        Discussion of the business problem and the interested audience in this project.\n",
    "\n",
    "### 1.1 Background:\n",
    "\n",
    "        When someone or a family is trying to find the best places to live, it's always a good idea to compare cities and if possible, to compare neighborhoods to see if it suites your taste. After all, when you go to buy a car or a house or any big ticket item, you usually try out a few models or visit a few homes before you decide. The same tactic applies to finding the best places to live. It is always advisable to do it before you start planning your move or to help narrow down your choices.When thinking about the best place to live, lots of things are considered when trying to make a comparison between cities, towns, or neighborhoods. Some of theses includes:\n",
    " \n",
    "### 1.2 Problem to be resolved:\n",
    "\n",
    "        How can I find a convenient and enjoyable place similar to mine now in Los Angeles? Certainly, I can use available real estate apps and Google but the idea is to use and apply myself the learned tools during the course. In order to make a comparison and evaluation of the rental options in Manhattan NY, I must set some basis configurations. "
   ]
  },
  {
   "cell_type": "markdown",
   "metadata": {},
   "source": [
    "## 2) Data Section:\n",
    "\n",
    "        Description of the data and its sources that will be used to solve the problem\n",
    "       \n",
    "### 2.1 Description of the Data:\n",
    "   \n",
    "        The following data is required to answer the issues of the problem:\n",
    "        List of Boroughs and neighborhoods of Manhattan with their geodata (latitude and longitude)\n",
    "        List of Subway metro stations in Manhattan with their address location\n",
    "        List of apartments for rent in Manhattan area with their addresses and price\n",
    "        Preferably, a list of apartment for rent with additional information, such as price, address, area, number of beds, etc\n",
    "        Clustered venues for each Manhattan neighborhood \n",
    "        Venues for subway metro stations\n",
    "\n",
    "### 2.2 The data will be used as follows:\n",
    "\n",
    "        Use Foursquare and geopy data to map top 10 venues for all Manhattan neighborhoods and clustered in groups\n",
    "        Use foursquare and geopy data to map the location of subway metro stations , separately and on top of the above clustered map in order to be able to identify the venues and ammenities near each metro station, or explore each subway location separately.\n",
    "        Use Foursquare and geopy data to map the location of rental places, in some form, linked to the subway locations ,create a map that depicts, for instance, the average rental price per square ft, around a radious of 1.0 miles(1.6 km) around each subway station - or a similar metrics. I will be able to quickly point to the popups to know the relative price per subway area.\n",
    "        Addresses from rental locations will be converted to geodata( lat, long) using Geopy-distance and Nominatim.\n",
    "        Data will be searched in open data sources if available, from real estate sites if open to reading, libraries or other government agencies such as Metro New York MTA, etc.\n",
    "        \n",
    "        A list of places for rent was collected by web-browsing real estate companies in Manhattan : http://www.rentmanhattan.com/index.cfm?page=search&state=results https://www.nestpick.com/search?city=new-york&page=1&order=relevance&district=manhattan&gclid=CjwKCAiAjNjgBRAgEiwAGLlf2hkP3A-cPxjZYkURqQEswQK2jKQEpv_MvKcrIhRWRzNkc_r-fGi0lxoCA7cQAvD_BwE&type=apartment&display=list https://www.realtor.com/apartments/Manhattan_NY A csv file was compiled with the rental place that indicated: areas of Manhattan, address, number of beds, area and monthly rental price. The csv file \"nnnn.csv\" had the following below structure. An algorythm was used to create all the geodata using Nominatim, as shown in section 3.0. The actual coding may be shown in 'markdown' mode because it takes time to run. With the use of geolocator = Nominatim() , it was possible to determine the latitude and longiude for the subway metro locations as well as for the geodata for each rental place listed. The loop algorythms used are shown in the execution of data in section 3.0 \"Great_circle\" function from geolocator was used to calculate distances between two points , as in the case to calculate average rent price for units around each subway station and at 1.6 km radius. Foursquare is used to find the avenues at Manhattan neighborhoods in general and a cluster is created to later be able to search for the venues depending of the location shown.\n",
    "        \n",
    "         A list of Manhattan subway metro stops was complied in Numbers (Apple excel) and it was complemeted with wikipedia data ( https://en.wikipedia.org/wiki/List_of_New_York_City_Subway_stations_in_Manhattan) and information from NY Transit authority and Google maps (https://www.google.com/maps/search/manhattan+subway+metro+stations/@40.7837297,-74.1033043,11z/data=!3m1!4b1) for a final consolidated list of subway stops names and their address. The geolocation was obtained via an algorythm using Nominatim. Details will be shown in the execution of methodolody in section 3.0. The subway csv file is ''MH_subway.csv'\" and the data structure is: mhsub.tail(): sub_station sub_address lat long.\n",
    "\n",
    "### 2.3 The procesing of data will allow to answer the key questions to make a decision:\n",
    "\n",
    "    what is the cost of rent (per square ft) around a mile radius from each subway metro station?\n",
    "    what is the area of Manhattan with best rental pricing that meets criteria established?\n",
    "    What is the distance from work place ( Park Ave and 53 rd St) and the tentative future home?\n",
    "    What are the venues of the two best places to live? How the prices compare?\n",
    "    How venues distribute among Manhattan neighborhoods and around metro stations?\n",
    "    Are there tradeoffs between size and price and location?\n",
    "    Any other interesting statistical data findings of the real estate and overall data.\n",
    "    \n",
    "   \n"
   ]
  },
  {
   "cell_type": "markdown",
   "metadata": {},
   "source": [
    "## 3. Methodology section:\n",
    "\n",
    "        This section represents the main component of the report where the data is gathered, prepared for analysis. The tools described are used here and the Notebook cells indicates the execution of steps.\n",
    "        \n",
    "### 3.1 Process steps and strategy to resolve the problem:\n",
    "    \n",
    "        The strategy is based on mapping the above described data in section 2.0, in order to facilitate the choice of at least two candidate places for rent. The choice is made based on the demands imposed : location near a subway, rental price and similar venues to Los Angeles. This visual approach and maps with popups labels allow quick identification of location, price and feature, thus making the selection very easy.\n",
    "        \n",
    "        The procesing of these DATA and its mapping will allow to answer the key questions to make a decision:\n",
    "        \n",
    "            what is the cost of available rental places that meet the demands?\n",
    "            what is the cost of rent around a mile radius from each subway metro station?\n",
    "            what is the area of Manhattan with best rental pricing that meets criteria established?\n",
    "            What is the distance from work place ( Park Ave and 53 rd St) and the tentative future rental home?\n",
    "            What are the venues of the two best places to live? How the prices compare?\n",
    "            How venues distribute among Manhattan neighborhoods and around metro stations?\n",
    "            Are there tradeoffs between size and price and location?\n",
    "            Any other interesting statistical data findings of the real estate and overall data."
   ]
  },
  {
   "cell_type": "markdown",
   "metadata": {},
   "source": [
    "### 3.2 Data Science Methods, machine Learning, mapping tools and exploratory data analysis:"
   ]
  },
  {
   "cell_type": "markdown",
   "metadata": {},
   "source": [
    "### Venues in S Olive Street, Los Angeles for comparison to Manhattan"
   ]
  },
  {
   "cell_type": "code",
   "execution_count": 2,
   "metadata": {},
   "outputs": [
    {
     "name": "stderr",
     "output_type": "stream",
     "text": [
      "/anaconda3/lib/python3.7/site-packages/ipykernel_launcher.py:4: DeprecationWarning: Using Nominatim with the default \"geopy/1.20.0\" `user_agent` is strongly discouraged, as it violates Nominatim's ToS https://operations.osmfoundation.org/policies/nominatim/ and may possibly cause 403 and 429 HTTP errors. Please specify a custom `user_agent` with `Nominatim(user_agent=\"my-application\")` or by overriding the default `user_agent`: `geopy.geocoders.options.default_user_agent = \"my-application\"`. In geopy 2.0 this will become an exception.\n",
      "  after removing the cwd from sys.path.\n"
     ]
    },
    {
     "name": "stdout",
     "output_type": "stream",
     "text": [
      "The geograpical coordinate of S olive st are 34.0337442, -118.2665409.\n"
     ]
    }
   ],
   "source": [
    "# S Olive St , Los Angeles, California, USA\n",
    "address = 'S Olive St , Los Angeles'\n",
    " \n",
    "geolocator = Nominatim()\n",
    "location = geolocator.geocode(address)\n",
    "latitude = location.latitude\n",
    "longitude = location.longitude\n",
    "print('The geograpical coordinate of S olive st are {}, {}.'.format(latitude, longitude))"
   ]
  },
  {
   "cell_type": "code",
   "execution_count": 3,
   "metadata": {},
   "outputs": [],
   "source": [
    "neighborhood_latitude=34.0337442\n",
    "neighborhood_longitude=-118.2665409"
   ]
  },
  {
   "cell_type": "code",
   "execution_count": 3,
   "metadata": {},
   "outputs": [
    {
     "name": "stdout",
     "output_type": "stream",
     "text": [
      "Your credentails:\n",
      "CLIENT_ID: ADCJV1VMO4BD2ZIR1WWMQY5FCULQLUI1MYATA4PZLTZP5ZCW\n",
      "CLIENT_SECRET:VWTSYCXR2GE5LYRZCQMMGHICDYFVTXEAHLAKCANNNIWGGBYX\n"
     ]
    }
   ],
   "source": [
    "# @hidden_cell\n",
    "\n",
    "CLIENT_ID = 'ADCJV1VMO4BD2ZIR1WWMQY5FCULQLUI1MYATA4PZLTZP5ZCW' # your Foursquare ID\n",
    "CLIENT_SECRET = 'VWTSYCXR2GE5LYRZCQMMGHICDYFVTXEAHLAKCANNNIWGGBYX' # your Foursquare Secret\n",
    "VERSION = '20180604'\n",
    "LIMIT = 30\n",
    "print('Your credentails:')\n",
    "print('CLIENT_ID: ' + CLIENT_ID)\n",
    "print('CLIENT_SECRET:' + CLIENT_SECRET)"
   ]
  },
  {
   "cell_type": "code",
   "execution_count": 5,
   "metadata": {},
   "outputs": [
    {
     "data": {
      "text/plain": [
       "'https://api.foursquare.com/v2/venues/explore?&client_id=ADCJV1VMO4BD2ZIR1WWMQY5FCULQLUI1MYATA4PZLTZP5ZCW&client_secret=VWTSYCXR2GE5LYRZCQMMGHICDYFVTXEAHLAKCANNNIWGGBYX&v=20180604&ll=34.0337442,-118.2665409&radius=500&limit=100'"
      ]
     },
     "execution_count": 5,
     "metadata": {},
     "output_type": "execute_result"
    }
   ],
   "source": [
    "LIMIT = 100 # limit of number of venues returned by Foursquare API\n",
    "radius = 500 # define radius\n",
    "\n",
    "# create URL\n",
    "url = 'https://api.foursquare.com/v2/venues/explore?&client_id={}&client_secret={}&v={}&ll={},{}&radius={}&limit={}'.format(\n",
    "    CLIENT_ID, \n",
    "    CLIENT_SECRET, \n",
    "    VERSION, \n",
    "    neighborhood_latitude, \n",
    "    neighborhood_longitude, \n",
    "    radius, \n",
    "    LIMIT)\n",
    "url # display URL"
   ]
  },
  {
   "cell_type": "code",
   "execution_count": 6,
   "metadata": {},
   "outputs": [],
   "source": [
    "results = requests.get(url).json()\n",
    "#results"
   ]
  },
  {
   "cell_type": "code",
   "execution_count": 7,
   "metadata": {},
   "outputs": [],
   "source": [
    "# function that extracts the category of the venue\n",
    "def get_category_type(row):\n",
    "    try:\n",
    "        categories_list = row['categories']\n",
    "    except:\n",
    "        categories_list = row['venue.categories']\n",
    "        \n",
    "    if len(categories_list) == 0:\n",
    "        return None\n",
    "    else:\n",
    "        return categories_list[0]['name']"
   ]
  },
  {
   "cell_type": "code",
   "execution_count": 8,
   "metadata": {},
   "outputs": [
    {
     "data": {
      "text/html": [
       "<div>\n",
       "<style scoped>\n",
       "    .dataframe tbody tr th:only-of-type {\n",
       "        vertical-align: middle;\n",
       "    }\n",
       "\n",
       "    .dataframe tbody tr th {\n",
       "        vertical-align: top;\n",
       "    }\n",
       "\n",
       "    .dataframe thead th {\n",
       "        text-align: right;\n",
       "    }\n",
       "</style>\n",
       "<table border=\"1\" class=\"dataframe\">\n",
       "  <thead>\n",
       "    <tr style=\"text-align: right;\">\n",
       "      <th></th>\n",
       "      <th>name</th>\n",
       "      <th>categories</th>\n",
       "      <th>lat</th>\n",
       "      <th>lng</th>\n",
       "    </tr>\n",
       "  </thead>\n",
       "  <tbody>\n",
       "    <tr>\n",
       "      <th>0</th>\n",
       "      <td>Olde Good Things</td>\n",
       "      <td>Antique Shop</td>\n",
       "      <td>34.033974</td>\n",
       "      <td>-118.267079</td>\n",
       "    </tr>\n",
       "    <tr>\n",
       "      <th>1</th>\n",
       "      <td>Umami Truck</td>\n",
       "      <td>Food Truck</td>\n",
       "      <td>34.033558</td>\n",
       "      <td>-118.264034</td>\n",
       "    </tr>\n",
       "    <tr>\n",
       "      <th>2</th>\n",
       "      <td>(the) handbag factory</td>\n",
       "      <td>Music Venue</td>\n",
       "      <td>34.037844</td>\n",
       "      <td>-118.264778</td>\n",
       "    </tr>\n",
       "    <tr>\n",
       "      <th>3</th>\n",
       "      <td>SUBWAY</td>\n",
       "      <td>Sandwich Place</td>\n",
       "      <td>34.032289</td>\n",
       "      <td>-118.266522</td>\n",
       "    </tr>\n",
       "    <tr>\n",
       "      <th>4</th>\n",
       "      <td>Food Haus Cafè</td>\n",
       "      <td>Café</td>\n",
       "      <td>34.029887</td>\n",
       "      <td>-118.268778</td>\n",
       "    </tr>\n",
       "    <tr>\n",
       "      <th>5</th>\n",
       "      <td>Jack in the Box</td>\n",
       "      <td>Fast Food Restaurant</td>\n",
       "      <td>34.034064</td>\n",
       "      <td>-118.264046</td>\n",
       "    </tr>\n",
       "    <tr>\n",
       "      <th>6</th>\n",
       "      <td>L.A. Mart</td>\n",
       "      <td>Furniture / Home Store</td>\n",
       "      <td>34.030778</td>\n",
       "      <td>-118.266490</td>\n",
       "    </tr>\n",
       "    <tr>\n",
       "      <th>7</th>\n",
       "      <td>Downtown Collective</td>\n",
       "      <td>Pharmacy</td>\n",
       "      <td>34.034382</td>\n",
       "      <td>-118.264308</td>\n",
       "    </tr>\n",
       "    <tr>\n",
       "      <th>8</th>\n",
       "      <td>Artisanal LA</td>\n",
       "      <td>Street Art</td>\n",
       "      <td>34.030300</td>\n",
       "      <td>-118.266609</td>\n",
       "    </tr>\n",
       "    <tr>\n",
       "      <th>9</th>\n",
       "      <td>Sports Museum of Los Angeles</td>\n",
       "      <td>Museum</td>\n",
       "      <td>34.030572</td>\n",
       "      <td>-118.264829</td>\n",
       "    </tr>\n",
       "  </tbody>\n",
       "</table>\n",
       "</div>"
      ],
      "text/plain": [
       "                           name              categories        lat         lng\n",
       "0              Olde Good Things            Antique Shop  34.033974 -118.267079\n",
       "1                   Umami Truck              Food Truck  34.033558 -118.264034\n",
       "2         (the) handbag factory             Music Venue  34.037844 -118.264778\n",
       "3                        SUBWAY          Sandwich Place  34.032289 -118.266522\n",
       "4                Food Haus Cafè                    Café  34.029887 -118.268778\n",
       "5               Jack in the Box    Fast Food Restaurant  34.034064 -118.264046\n",
       "6                     L.A. Mart  Furniture / Home Store  34.030778 -118.266490\n",
       "7           Downtown Collective                Pharmacy  34.034382 -118.264308\n",
       "8                  Artisanal LA              Street Art  34.030300 -118.266609\n",
       "9  Sports Museum of Los Angeles                  Museum  34.030572 -118.264829"
      ]
     },
     "execution_count": 8,
     "metadata": {},
     "output_type": "execute_result"
    }
   ],
   "source": [
    "venues = results['response']['groups'][0]['items']\n",
    "    \n",
    "SGnearby_venues = json_normalize(venues) # flatten JSON\n",
    "\n",
    "# filter columns\n",
    "filtered_columns = ['venue.name', 'venue.categories', 'venue.location.lat', 'venue.location.lng']\n",
    "SGnearby_venues =SGnearby_venues.loc[:, filtered_columns]\n",
    "\n",
    "# filter the category for each row\n",
    "SGnearby_venues['venue.categories'] = SGnearby_venues.apply(get_category_type, axis=1)\n",
    "\n",
    "# clean columns\n",
    "SGnearby_venues.columns = [col.split(\".\")[-1] for col in SGnearby_venues.columns]\n",
    "\n",
    "SGnearby_venues.head(10)"
   ]
  },
  {
   "cell_type": "markdown",
   "metadata": {},
   "source": [
    "### Map of Los Angeles with venues"
   ]
  },
  {
   "cell_type": "code",
   "execution_count": 9,
   "metadata": {},
   "outputs": [
    {
     "data": {
      "text/html": [
       "<div style=\"width:100%;\"><div style=\"position:relative;width:100%;height:0;padding-bottom:60%;\"><iframe src=\"data:text/html;charset=utf-8;base64,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\" style=\"position:absolute;width:100%;height:100%;left:0;top:0;border:none !important;\" allowfullscreen webkitallowfullscreen mozallowfullscreen></iframe></div></div>"
      ],
      "text/plain": [
       "<folium.folium.Map at 0x1a27e22f98>"
      ]
     },
     "execution_count": 9,
     "metadata": {},
     "output_type": "execute_result"
    }
   ],
   "source": [
    "# create map of Los Angeles using by latitude and longitude values\n",
    "map_la = folium.Map(location=[latitude, longitude], zoom_start=15)\n",
    "\n",
    "# add markers to map\n",
    "for lat, lng, label in zip(SGnearby_venues['lat'], SGnearby_venues['lng'], SGnearby_venues['name']):\n",
    "    label = folium.Popup(label, parse_html=True)\n",
    "    folium.RegularPolygonMarker(\n",
    "        [lat, lng],\n",
    "        number_of_sides=4,\n",
    "        radius=10,\n",
    "        popup=label,\n",
    "        color='blue',\n",
    "        fill_color='#0f0f0f',\n",
    "        fill_opacity=0.7,\n",
    "    ).add_to(map_la)  \n",
    "    \n",
    "map_la"
   ]
  },
  {
   "cell_type": "markdown",
   "metadata": {},
   "source": [
    "### Data and mapping"
   ]
  },
  {
   "cell_type": "markdown",
   "metadata": {},
   "source": [
    "Cluster neighborhood data was produced with Foursquare during course lab work. A csv file was produced containing the neighborhoods around the 40 Boroughs.\n"
   ]
  },
  {
   "cell_type": "markdown",
   "metadata": {},
   "source": [
    "# ALL THE REQUIRED CSV FILES WERE UPLOADED IN GITHUB REPOSITORY"
   ]
  },
  {
   "cell_type": "code",
   "execution_count": 43,
   "metadata": {},
   "outputs": [],
   "source": [
    "# Read csv file with clustered neighborhoods with geodata\n",
    "manhattan_data  = pd.read_csv('mh_neigh_data.csv') \n",
    "manhattan_data.head()"
   ]
  },
  {
   "cell_type": "code",
   "execution_count": null,
   "metadata": {},
   "outputs": [],
   "source": [
    "manhattan_data.tail()"
   ]
  },
  {
   "cell_type": "markdown",
   "metadata": {},
   "source": [
    "### Manhattan Borough neighborhoods - data with top 10 clustered venues"
   ]
  },
  {
   "cell_type": "code",
   "execution_count": null,
   "metadata": {},
   "outputs": [],
   "source": [
    "manhattan_merged = pd.read_csv('manhattan_merged.csv')\n",
    "manhattan_merged.head()"
   ]
  },
  {
   "cell_type": "markdown",
   "metadata": {},
   "source": [
    "### Map of Manhattan neighborhoods with top 10 clustered venues\n",
    "\n",
    "#### Identify each neighborhood and the cluster of venues around it in order to proceed to examine in more detail in the next cell"
   ]
  },
  {
   "cell_type": "code",
   "execution_count": null,
   "metadata": {},
   "outputs": [],
   "source": [
    "# create map of Manhattan using latitude and longitude values from Nominatim\n",
    "latitude= 40.7308619\n",
    "longitude= -73.9871558 \n",
    "\n",
    "kclusters=5\n",
    "map_clusters = folium.Map(location=[latitude, longitude], zoom_start=13)\n",
    "\n",
    "# set color scheme for the clusters\n",
    "x = np.arange(kclusters)\n",
    "ys = [i+x+(i*x)**2 for i in range(kclusters)]\n",
    "colors_array = cm.rainbow(np.linspace(0, 1, len(ys)))\n",
    "rainbow = [colors.rgb2hex(i) for i in colors_array]\n",
    "\n",
    "# add markers to the map\n",
    "markers_colors = []\n",
    "for lat, lon, poi, cluster in zip(manhattan_merged['Latitude'], manhattan_merged['Longitude'], manhattan_merged['Neighborhood'], manhattan_merged['Cluster Labels']):\n",
    "    label = folium.Popup(str(poi) + ' Cluster ' + str(cluster), parse_html=True)\n",
    "    folium.CircleMarker(\n",
    "        [lat, lon],\n",
    "        radius=20,\n",
    "        popup=label,\n",
    "        color=rainbow[cluster-1],\n",
    "        fill=True,\n",
    "        fill_color=rainbow[cluster-1],\n",
    "        fill_opacity=0.7).add_to(map_clusters)\n",
    "  # add markers for rental places to map\n",
    "for lat, lng, label in zip(manhattan_data['Latitude'], manhattan_data['Longitude'], manhattan_data['Neighborhood']):\n",
    "    label = folium.Popup(label, parse_html=True)\n",
    "    folium.CircleMarker(\n",
    "        [lat, lng],\n",
    "        radius=5,\n",
    "        popup=label,\n",
    "        color='blue',\n",
    "        fill=True,\n",
    "        fill_color='#3186cc',\n",
    "        fill_opacity=0.7,\n",
    "        parse_html=False).add_to(map_clusters)    \n",
    "    \n",
    "       \n",
    "map_clusters"
   ]
  },
  {
   "cell_type": "markdown",
   "metadata": {},
   "source": [
    "### Examine a paticular Cluster - print venues\n",
    "\n",
    "#### After examining several cluster data , I concluded that cluster # 2 resembles closer to LA, therefore providing guidance as to where to look for the future apartment .\n",
    "#### Assign a value to 'kk' to explore a given cluster."
   ]
  },
  {
   "cell_type": "code",
   "execution_count": null,
   "metadata": {},
   "outputs": [],
   "source": [
    "## kk is the cluster number to explore\n",
    "kk = 2\n",
    "manhattan_merged.loc[manhattan_merged['Cluster Labels'] == kk, manhattan_merged.columns[[1] + list(range(5, manhattan_merged.shape[1]))]]"
   ]
  },
  {
   "cell_type": "markdown",
   "metadata": {},
   "source": [
    "### Map of Manhattan places for rent\n"
   ]
  },
  {
   "cell_type": "code",
   "execution_count": null,
   "metadata": {},
   "outputs": [],
   "source": [
    "# csv files with rental places with basic data but still wihtout geodata ( latitude and longitude)\n",
    "# pd.read_csv(' le.csv', header=None, nrows=5)\n",
    "mh_rent=pd.read_csv('MH_flats_price.csv')\n",
    "mh_rent.head()"
   ]
  },
  {
   "cell_type": "code",
   "execution_count": null,
   "metadata": {},
   "outputs": [],
   "source": [
    "mh_rent.tail()"
   ]
  },
  {
   "cell_type": "markdown",
   "metadata": {},
   "source": [
    "### Obtain geodata ( lat,long) for each rental place in Manhattan with Nominatim\n"
   ]
  },
  {
   "cell_type": "code",
   "execution_count": null,
   "metadata": {},
   "outputs": [],
   "source": [
    "for n in range(len(mh_rent)):   \n",
    "    address= mh_rent['Address'][n]\n",
    "    address=(mh_rent['Address'][n]+ '  , '+' Manhattan NY ')\n",
    "    geolocator = Nominatim()\n",
    "    location = geolocator.geocode(address)\n",
    "    latitude = location.latitude\n",
    "    longitude = location.longitude\n",
    "    mh_rent['Lat'][n]=latitude\n",
    "    mh_rent['Long'][n]=longitude\n",
    "    #print(n,latitude,longitude)\n",
    "    time.sleep(2)\n",
    "\n",
    "print('Geodata completed')\n",
    "\n",
    "#save geodata to MH_rent_latlong.csv\n",
    "mh_rent.to_csv('MH_rent_latlong.csv',index=False)\n",
    "mh_rent.shape"
   ]
  },
  {
   "cell_type": "code",
   "execution_count": null,
   "metadata": {},
   "outputs": [],
   "source": [
    "mh_rent=pd.read_csv('MH_rent_latlong.csv')\n",
    "mh_rent.head()"
   ]
  },
  {
   "cell_type": "code",
   "execution_count": null,
   "metadata": {},
   "outputs": [],
   "source": [
    "mh_rent.tail()"
   ]
  },
  {
   "cell_type": "markdown",
   "metadata": {},
   "source": [
    "### Manhattan apartment rent price statistics\n",
    "#### 7000 Dollar per month rent is actually around the mean value"
   ]
  },
  {
   "cell_type": "code",
   "execution_count": null,
   "metadata": {},
   "outputs": [],
   "source": [
    "import seaborn as sns\n",
    "sns.distplot(mh_rent['Rent_Price'],bins=15)"
   ]
  },
  {
   "cell_type": "code",
   "execution_count": null,
   "metadata": {},
   "outputs": [],
   "source": [
    "import seaborn as sns\n",
    "sns.distplot(mh_rent['Price_per_ft2'],bins=15)"
   ]
  },
  {
   "cell_type": "code",
   "execution_count": null,
   "metadata": {},
   "outputs": [],
   "source": [
    "sns.boxplot(x='Rooms', y= 'Rent_Price', data=mh_rent)"
   ]
  },
  {
   "cell_type": "markdown",
   "metadata": {},
   "source": [
    "### Map of Manhattan apartments for rent"
   ]
  },
  {
   "cell_type": "code",
   "execution_count": null,
   "metadata": {},
   "outputs": [],
   "source": [
    "# create map of Manhattan using latitude and longitude values from Nominatim\n",
    "latitude= 40.7308619\n",
    "longitude= -73.9871558\n",
    "\n",
    "map_manhattan_rent = folium.Map(location=[latitude, longitude], zoom_start=12.5)\n",
    "\n",
    "# add markers to map\n",
    "for lat, lng, label in zip(mh_rent['Lat'], mh_rent['Long'],'$ ' + mh_rent['Rent_Price'].astype(str)+ ',  '+ mh_rent['Address']):      \n",
    "    label = folium.Popup(label, parse_html=True)\n",
    "    folium.CircleMarker(\n",
    "        [lat, lng],\n",
    "        radius=6,\n",
    "        popup=label,\n",
    "        color='blue',\n",
    "        fill=True,\n",
    "        fill_color='#3186cc',\n",
    "        fill_opacity=0.7,\n",
    "        parse_html=False).add_to(map_manhattan_rent) \n",
    "    \n",
    "\n",
    "map_manhattan_rent"
   ]
  },
  {
   "cell_type": "markdown",
   "metadata": {},
   "source": [
    "### Map of Manhattan showing the places for rent and the cluster of venues\n",
    "#### Now, one can point to a rental place for price and address location information while knowing the cluster venues around it.\n",
    "#### This is an insightful way to explore rental possibilites\n"
   ]
  },
  {
   "cell_type": "code",
   "execution_count": null,
   "metadata": {},
   "outputs": [],
   "source": [
    "# create map of Manhattan using latitude and longitude values from Nominatim\n",
    "latitude= 40.7308619\n",
    "longitude= -73.9871558\n",
    "\n",
    "# create map with clusters\n",
    "kclusters=5\n",
    "map_clusters2 = folium.Map(location=[latitude, longitude], zoom_start=13)\n",
    "\n",
    "# set color scheme for the clusters\n",
    "x = np.arange(kclusters)\n",
    "ys = [i+x+(i*x)**2 for i in range(kclusters)]\n",
    "colors_array = cm.rainbow(np.linspace(0, 1, len(ys)))\n",
    "rainbow = [colors.rgb2hex(i) for i in colors_array]\n",
    "\n",
    "# add markers to the map\n",
    "markers_colors = []\n",
    "for lat, lon, poi, cluster in zip(manhattan_merged['Latitude'], manhattan_merged['Longitude'], manhattan_merged['Neighborhood'], manhattan_merged['Cluster Labels']):\n",
    "    label = folium.Popup(str(poi) + ' Cluster ' + str(cluster), parse_html=True)\n",
    "    folium.CircleMarker(\n",
    "        [lat, lon],\n",
    "        radius=20,\n",
    "        popup=label,\n",
    "        color=rainbow[cluster-1],\n",
    "        fill=True,\n",
    "        fill_color=rainbow[cluster-1],\n",
    "        fill_opacity=0.7).add_to(map_clusters2)\n",
    "\n",
    "# add markers to map for rental places\n",
    "for lat, lng, label in zip(mh_rent['Lat'], mh_rent['Long'],'$ ' + mh_rent['Rent_Price'].astype(str)+ mh_rent['Address']):      \n",
    "    label = folium.Popup(label, parse_html=True)\n",
    "    folium.CircleMarker(\n",
    "        [lat, lng],\n",
    "        radius=6,\n",
    "        popup=label,\n",
    "        color='blue',\n",
    "        fill=True,\n",
    "        fill_color='#3186cc',\n",
    "        fill_opacity=0.7,\n",
    "        parse_html=False).add_to(map_clusters2)  \n",
    "    \n",
    "    # Adds tool to the top right\n",
    "from folium.plugins import MeasureControl\n",
    "map_manhattan_rent.add_child(MeasureControl())\n",
    "\n",
    "\n",
    "map_clusters2"
   ]
  },
  {
   "cell_type": "markdown",
   "metadata": {},
   "source": [
    "### In the map above, examination of apartments with rental place below 7000/month is straightforward while knowing the venues around it.\n",
    "#### We could find an appartment with at the right price and in a location with desirable venues. The next step is to see if it is located near a subway metro station, in next cells work."
   ]
  },
  {
   "cell_type": "code",
   "execution_count": null,
   "metadata": {},
   "outputs": [],
   "source": [
    "## kk is the cluster number to explore\n",
    "kk = 3\n",
    "manhattan_merged.loc[manhattan_merged['Cluster Labels'] == kk, manhattan_merged.columns[[1] + list(range(5, manhattan_merged.shape[1]))]]"
   ]
  },
  {
   "cell_type": "code",
   "execution_count": null,
   "metadata": {},
   "outputs": [],
   "source": [
    "Add colums labeled 'lat' and 'long' to be filled with geodata"
   ]
  },
  {
   "cell_type": "code",
   "execution_count": null,
   "metadata": {},
   "outputs": [],
   "source": [
    "#  Add columns 'lat'  and 'long' to mh dataframe - with random temporary numbers to get started\n",
    "sLength = len(mh['sub_station'])\n",
    "lat = pd.Series(np.random.randn(sLength))\n",
    "long=pd.Series(np.random.randn(sLength))\n",
    "mh = mh.assign(lat=lat.values)\n",
    "mh = mh.assign(long=long.values)"
   ]
  },
  {
   "cell_type": "code",
   "execution_count": null,
   "metadata": {},
   "outputs": [],
   "source": [
    "##find latitude and longitude for each subway metro station and add them to dataframe\n",
    "\n",
    "for n in range(len(mh)):\n",
    "    address= mh['sub_address'][n]\n",
    "    geolocator = Nominatim()\n",
    "    location = geolocator.geocode(address)\n",
    "    latitude = location.latitude\n",
    "    longitude = location.longitude\n",
    "    mh['lat'][n]=latitude\n",
    "    mh['long'][n]=longitude\n",
    "    #print(n,latitude,longitude)\n",
    "    time.sleep(2)\n",
    "\n",
    "print('Geodata completed')\n",
    "# save dataframe to csv file\n",
    "mh.to_csv('MH_subway.csv',index=False)\n",
    "mh.shape"
   ]
  },
  {
   "cell_type": "code",
   "execution_count": null,
   "metadata": {},
   "outputs": [],
   "source": [
    "mh=pd.read_csv('MH_subway.csv')\n",
    "print(mh.shape)\n",
    "mh.head()"
   ]
  },
  {
   "cell_type": "code",
   "execution_count": null,
   "metadata": {},
   "outputs": [],
   "source": [
    "# removing duplicate rows and creating new set mhsub1\n",
    "mhsub1=mh.drop_duplicates(subset=['lat','long'], keep=\"last\").reset_index(drop=True)\n",
    "mhsub1.shape"
   ]
  },
  {
   "cell_type": "markdown",
   "metadata": {},
   "source": [
    "### Map of Manhattan showing the location of subway stations"
   ]
  },
  {
   "cell_type": "code",
   "execution_count": null,
   "metadata": {},
   "outputs": [],
   "source": [
    "# map subway stations \n",
    "# create map of Manhattan using latitude and longitude values obtain previoulsy via Moninatim geolocator\n",
    "latitude=40.7308619\n",
    "longitude=-73.9871558\n",
    "\n",
    "map_mhsub1 = folium.Map(location=[latitude, longitude], zoom_start=12)\n",
    "\n",
    "# add markers of subway locations to map\n",
    "for lat, lng, label in zip(mhsub1['lat'], mhsub1['long'],  mhsub1['sub_station'].astype(str) ):\n",
    "    label = folium.Popup(label, parse_html=True)\n",
    "    folium.RegularPolygonMarker(\n",
    "        [lat, lng],\n",
    "        number_of_sides=6,\n",
    "        radius=6,\n",
    "        popup=label,\n",
    "        color='red',\n",
    "        fill_color='red',\n",
    "        fill_opacity=2.5,\n",
    "    ).add_to(map_mhsub1) \n",
    "map_mhsub1"
   ]
  },
  {
   "cell_type": "markdown",
   "metadata": {},
   "source": [
    "### Map of Manhattan showing places for rent and the subway locations nearby\n",
    "#### Now, we can visualize the desirable rental places and their nearest subway station. Popups display rental address and monthly rental price and the subway station name.\n",
    "#### Notice that the icon in the top-right corner is a \"ruler\" that allows to measure the distance from a rental place to an specific subway station"
   ]
  },
  {
   "cell_type": "code",
   "execution_count": null,
   "metadata": {},
   "outputs": [],
   "source": [
    "mh_rent.head()"
   ]
  },
  {
   "cell_type": "code",
   "execution_count": null,
   "metadata": {},
   "outputs": [],
   "source": [
    "# create map of Manhattan using latitude and longitude values from Nominatim\n",
    "latitude= 40.7308619\n",
    "longitude= -73.9871558\n",
    "\n",
    "map_manhattan_rent = folium.Map(location=[latitude, longitude], zoom_start=13.3)\n",
    "\n",
    "# add markers to map\n",
    "for lat, lng, label in zip(mh_rent['Lat'], mh_rent['Long'],'$ ' + mh_rent['Rent_Price'].astype(str)+ mh_rent['Address']):      \n",
    "    label = folium.Popup(label, parse_html=True)\n",
    "    folium.CircleMarker(\n",
    "        [lat, lng],\n",
    "        radius=6,\n",
    "        popup=label,\n",
    "        color='blue',\n",
    "        fill=True,\n",
    "        fill_color='#3186cc',\n",
    "        fill_opacity=0.7,\n",
    "        parse_html=False).add_to(map_manhattan_rent) \n",
    "    \n",
    "    # add markers of subway locations to map\n",
    "for lat, lng, label in zip(mhsub1['lat'], mhsub1['long'],  mhsub1['sub_station'].astype(str) ):\n",
    "    label = folium.Popup(label, parse_html=True)\n",
    "    folium.RegularPolygonMarker(\n",
    "        [lat, lng],\n",
    "        number_of_sides=6,\n",
    "        radius=6,\n",
    "        popup=label,\n",
    "        color='red',\n",
    "        fill_color='red',\n",
    "        fill_opacity=2.5,\n",
    "    ).add_to(map_manhattan_rent) \n",
    "    \n",
    "    # Adds tool to the top right\n",
    "from folium.plugins import MeasureControl\n",
    "map_manhattan_rent.add_child(MeasureControl())\n",
    "\n",
    "\n",
    "map_manhattan_rent"
   ]
  },
  {
   "cell_type": "markdown",
   "metadata": {},
   "source": [
    "## 4) Results"
   ]
  },
  {
   "cell_type": "markdown",
   "metadata": {},
   "source": [
    "### Let's consolidate all the required inforamtion to make the apartment selection in one map\n",
    "#### Map of Manhattan with rental places, subway locations and cluster of venues\n",
    "#### Red dots are Subway stations, Blue dots are apartments available for rent, Bubbles are the clusters of venues"
   ]
  },
  {
   "cell_type": "code",
   "execution_count": null,
   "metadata": {},
   "outputs": [],
   "source": [
    "# create map of Manhattan using latitude and longitude values from Nominatim\n",
    "latitude= 40.7308619\n",
    "longitude= -73.9871558\n",
    "\n",
    "map_mh_one = folium.Map(location=[latitude, longitude], zoom_start=13.3)\n",
    "\n",
    "# add markers to map\n",
    "for lat, lng, label in zip(mh_rent['Lat'], mh_rent['Long'],'$ ' + mh_rent['Rent_Price'].astype(str)+ ', '+mh_rent['Address']):      \n",
    "    label = folium.Popup(label, parse_html=True)\n",
    "    folium.CircleMarker(\n",
    "        [lat, lng],\n",
    "        radius=6,\n",
    "        popup=label,\n",
    "        color='blue',\n",
    "        fill=True,\n",
    "        fill_color='#3186cc',\n",
    "        fill_opacity=0.7,\n",
    "        parse_html=False).add_to(map_mh_one) \n",
    "    \n",
    "    # add markers of subway locations to map\n",
    "for lat, lng, label in zip(mhsub1['lat'], mhsub1['long'],  mhsub1['sub_station'].astype(str) ):\n",
    "    label = folium.Popup(label, parse_html=True)\n",
    "    folium.RegularPolygonMarker(\n",
    "        [lat, lng],\n",
    "        number_of_sides=6,\n",
    "        radius=6,\n",
    "        popup=label,\n",
    "        color='red',\n",
    "        fill_color='red',\n",
    "        fill_opacity=2.5,\n",
    "    ).add_to(map_mh_one) \n",
    "\n",
    "\n",
    "# set color scheme for the clusters\n",
    "kclusters=5\n",
    "x = np.arange(kclusters)\n",
    "ys = [i+x+(i*x)**2 for i in range(kclusters)]\n",
    "colors_array = cm.rainbow(np.linspace(0, 1, len(ys)))\n",
    "rainbow = [colors.rgb2hex(i) for i in colors_array]\n",
    "\n",
    "# add markers to the map\n",
    "markers_colors = []\n",
    "for lat, lon, poi, cluster in zip(manhattan_merged['Latitude'], manhattan_merged['Longitude'], manhattan_merged['Neighborhood'], manhattan_merged['Cluster Labels']):\n",
    "    label = folium.Popup(str(poi) + ' Cluster ' + str(cluster), parse_html=True)\n",
    "    folium.CircleMarker(\n",
    "        [lat, lon],\n",
    "        radius=15,\n",
    "        popup=label,\n",
    "        color=rainbow[cluster-1],\n",
    "        fill=True,\n",
    "        fill_color=rainbow[cluster-1],\n",
    "        fill_opacity=0.7).add_to(map_mh_one)\n",
    "\n",
    "    # Adds tool to the top right\n",
    "from folium.plugins import MeasureControl\n",
    "map_mh_one.add_child(MeasureControl())\n",
    "\n",
    "\n",
    "map_mh_one"
   ]
  },
  {
   "cell_type": "markdown",
   "metadata": {},
   "source": [
    "### Problem Resolution\n",
    "\n",
    "        The above consolidate map was used to explore options.\n",
    "        After examining, I have chosen two locations that meet the requirements which will assess to make a choice.\n",
    "        \n",
    "        Apartment 1: 305 East 63rd Street in the Sutton Place Neighborhood and near 'subway 59th Street' station, Cluster # 2 Monthly rent : 7500 Dollars\n",
    "        Apartment 2: 19 Dutch Street in the Financial District Neighborhood and near 'Fulton Street Subway' station, Cluster # 3 Monthly rent : 6935 Dollars"
   ]
  },
  {
   "cell_type": "markdown",
   "metadata": {},
   "source": [
    "### Venues for Apartment 1 - Cluster 2"
   ]
  },
  {
   "cell_type": "code",
   "execution_count": null,
   "metadata": {},
   "outputs": [],
   "source": [
    "## kk is the cluster number to explore\n",
    "kk = 2\n",
    "manhattan_merged.loc[manhattan_merged['Cluster Labels'] == kk, manhattan_merged.columns[[1] + list(range(5, manhattan_merged.shape[1]))]]"
   ]
  },
  {
   "cell_type": "code",
   "execution_count": null,
   "metadata": {},
   "outputs": [],
   "source": [
    "## kk is the cluster number to explore\n",
    "kk = 3\n",
    "manhattan_merged.loc[manhattan_merged['Cluster Labels'] == kk, manhattan_merged.columns[[1] + list(range(5, manhattan_merged.shape[1]))]]"
   ]
  },
  {
   "cell_type": "markdown",
   "metadata": {},
   "source": [
    "### Apartment Selection\n",
    "\n",
    "        Using the \"one map\" above, I was able to explore all possibilities since the popups provide the information needed for a good decision.\n",
    "        Apartment 1 rent cost is US7500 slightly above the US7000 budget. Apt 1 is located 400 meters from subway station at 59th Street and work place ( Park Ave and 53rd) is another 600 meters way. I can walk to work place and use subway for other places aroung. Venues for this apt are as of Cluster 2 and it is located in a fine district in the East side of Manhattan.\n",
    "        \n",
    "        Apartment 2 rent cost is US6935, just under the US7000 budget. Apt 2 is located 60 meters from subway station at Fulton Street, but I will have to ride the subway daily to work , possibly 40-60 min ride. Venues for this apt are as of Cluster 3."
   ]
  },
  {
   "cell_type": "markdown",
   "metadata": {},
   "source": [
    "## 5) DISCUSSION"
   ]
  },
  {
   "cell_type": "markdown",
   "metadata": {},
   "source": [
    "In general, while all of these tools are useful, there is nothing like visiting the actual city, seeing the neighborhoods, and speaking with residents. If it's possible, an in-person visit is highly recommended before making a big move."
   ]
  },
  {
   "cell_type": "markdown",
   "metadata": {},
   "source": [
    "## 6) CONCLUSIONS"
   ]
  },
  {
   "cell_type": "markdown",
   "metadata": {},
   "source": [
    "This project has shown me a practical application to resolve a real situation that has impacting personal and financial impact using Data Science tools.\n",
    "The mapping with Folium is a very powerful technique to consolidate information and make the analysis and decision thoroughly and with confidence. I would recommend for use in similar situations."
   ]
  }
 ],
 "metadata": {
  "kernelspec": {
   "display_name": "Python 3",
   "language": "python",
   "name": "python3"
  },
  "language_info": {
   "codemirror_mode": {
    "name": "ipython",
    "version": 3
   },
   "file_extension": ".py",
   "mimetype": "text/x-python",
   "name": "python",
   "nbconvert_exporter": "python",
   "pygments_lexer": "ipython3",
   "version": "3.7.3"
  }
 },
 "nbformat": 4,
 "nbformat_minor": 2
}
